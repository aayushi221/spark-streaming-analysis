{
  "nbformat": 4,
  "nbformat_minor": 0,
  "metadata": {
    "colab": {
      "private_outputs": true,
      "provenance": []
    },
    "kernelspec": {
      "name": "python3",
      "display_name": "Python 3"
    },
    "language_info": {
      "name": "python"
    }
  },
  "cells": [
    {
      "cell_type": "markdown",
      "source": [
        " Task 2.1 Create StreamingContext\n"
      ],
      "metadata": {
        "id": "aVY2j3mcaGdc"
      }
    },
    {
      "cell_type": "code",
      "execution_count": null,
      "metadata": {
        "id": "vGHWTEMsZGBb"
      },
      "outputs": [],
      "source": [
        "from pyspark import SparkContext\n",
        "from pyspark.streaming import StreamingContext"
      ]
    },
    {
      "cell_type": "code",
      "source": [
        "sc = SparkContext(\"local[2]\", \"StreamingExample\")"
      ],
      "metadata": {
        "id": "PBaOqDUnaBm8"
      },
      "execution_count": null,
      "outputs": []
    },
    {
      "cell_type": "code",
      "source": [
        "ssc = StreamingContext(sc, 10)"
      ],
      "metadata": {
        "id": "CznujGfhaD2D"
      },
      "execution_count": null,
      "outputs": []
    },
    {
      "cell_type": "code",
      "source": [
        "print(\"StreamingContext created with 2 threads and 10s batch interval.\")"
      ],
      "metadata": {
        "id": "bbiTA3WhaFku"
      },
      "execution_count": null,
      "outputs": []
    },
    {
      "cell_type": "markdown",
      "source": [
        "Task 2.2: TCP Source via Netcat"
      ],
      "metadata": {
        "id": "jbkKvfDIeHSm"
      }
    },
    {
      "cell_type": "code",
      "source": [
        "# Create DStream that connects to localhost:9999\n",
        "lines = ssc.socketTextStream(\"localhost\", 9999)\n",
        "\n",
        "# Simple transformation: split lines into words\n",
        "words = lines.flatMap(lambda line: line.split())\n",
        "\n",
        "# Count each word\n",
        "pairs = words.map(lambda word: (word, 1))\n",
        "word_counts = pairs.reduceByKey(lambda x, y: x + y)\n",
        "\n",
        "# Print result\n",
        "word_counts.pprint()\n",
        "\n",
        "# Start the streaming context and wait for termination\n",
        "ssc.start()\n",
        "ssc.awaitTermination()"
      ],
      "metadata": {
        "id": "jkr-KVkieKN7"
      },
      "execution_count": null,
      "outputs": []
    },
    {
      "cell_type": "markdown",
      "source": [
        "Task 2.3: Generate k-mers"
      ],
      "metadata": {
        "id": "cZl-Hc7QgZw2"
      }
    },
    {
      "cell_type": "code",
      "source": [
        "def generate_kmers(text, k=3):\n",
        "    return [text[i:i+k] for i in range(len(text) - k + 1)]\n",
        "\n",
        "# Split lines into words, then generate k-mers from each word\n",
        "kmers = lines.flatMap(lambda line: line.split()) \\\n",
        "             .flatMap(lambda word: generate_kmers(word, 3))\n",
        "\n",
        "# Count k-mer frequency\n",
        "kmer_counts = kmers.map(lambda kmer: (kmer, 1)) \\\n",
        "                   .reduceByKey(lambda a, b: a + b)\n",
        "\n",
        "# Display the k-mer counts\n",
        "kmer_counts.pprint()\n",
        "\n",
        "# Start and await termination\n",
        "ssc.start()\n",
        "ssc.awaitTermination()"
      ],
      "metadata": {
        "id": "aXLlQ1Lhgc-J"
      },
      "execution_count": null,
      "outputs": []
    },
    {
      "cell_type": "markdown",
      "source": [
        "Task 2.4: Count k-mers"
      ],
      "metadata": {
        "id": "kZQ5KC2BhmE3"
      }
    },
    {
      "cell_type": "code",
      "source": [
        "def generate_kmers(word, k=3):\n",
        "    return [word[i:i+k] for i in range(len(word) - k + 1)]\n",
        "\n",
        "# Generate k-mers from each line, then count\n",
        "kmers = lines.flatMap(lambda line: line.split()) \\\n",
        "             .flatMap(lambda word: generate_kmers(word, 3)) \\\n",
        "             .map(lambda kmer: (kmer, 1)) \\\n",
        "             .reduceByKey(lambda a, b: a + b)\n",
        "\n",
        "# Print result\n",
        "kmers.pprint()\n",
        "\n",
        "# Start streaming\n",
        "ssc.start()\n",
        "ssc.awaitTermination()"
      ],
      "metadata": {
        "id": "z5kROXAKhoii"
      },
      "execution_count": null,
      "outputs": []
    }
  ]
}