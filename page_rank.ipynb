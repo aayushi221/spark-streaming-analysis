{
  "nbformat": 4,
  "nbformat_minor": 0,
  "metadata": {
    "colab": {
      "private_outputs": true,
      "provenance": []
    },
    "kernelspec": {
      "name": "python3",
      "display_name": "Python 3"
    },
    "language_info": {
      "name": "python"
    }
  },
  "cells": [
    {
      "cell_type": "markdown",
      "source": [
        "Task 2.1: PageRank Algorithm"
      ],
      "metadata": {
        "id": "F75tkBAuX0yl"
      }
    },
    {
      "cell_type": "code",
      "source": [
        "import random\n",
        "import networkx as nx\n",
        "\n",
        "# Function to generate random link data\n",
        "def generate_link_data(num_nodes):\n",
        "    link_data = {}\n",
        "    for node in range(num_nodes):\n",
        "        num_links = random.randint(1, min(10, num_nodes - 1))\n",
        "        links = random.sample(range(num_nodes), num_links)\n",
        "        links = [link for link in links if link != node]\n",
        "        link_data[node] = links\n",
        "    link_graph = nx.DiGraph(link_data)\n",
        "    labels = dict((n, str(n)) for n in link_graph.nodes())\n",
        "    nx.draw_circular(link_graph, labels = labels)\n",
        "    return link_data\n",
        "\n",
        "# Function to write link data to a text file\n",
        "def write_link_data_to_file(link_data, filename):\n",
        "    with open(filename, 'w') as file:\n",
        "        for node, links in link_data.items():\n",
        "            file.write(\"{}: {}\\n\".format(node, links))\n",
        "\n",
        "# Main function\n",
        "def main():\n",
        "    num_nodes = 100\n",
        "    link_data = generate_link_data(num_nodes)\n",
        "\n",
        "    # Write link data to a file\n",
        "    write_link_data_to_file(link_data, 'pagelinks.txt')\n",
        "\n",
        "    print(\"File 'pagelinks.txt' created successfully.\")\n",
        "\n",
        "if __name__ == \"__main__\":\n",
        "    main()\n"
      ],
      "metadata": {
        "id": "YyFm5SPtYv6E"
      },
      "execution_count": null,
      "outputs": []
    },
    {
      "cell_type": "code",
      "execution_count": null,
      "metadata": {
        "id": "nobB7ObiXCAg"
      },
      "outputs": [],
      "source": [
        "from pyspark import SparkContext"
      ]
    },
    {
      "cell_type": "code",
      "source": [
        "sc = SparkContext(\"local\", \"PageRank\")"
      ],
      "metadata": {
        "id": "ttCedYdsX2Vx"
      },
      "execution_count": null,
      "outputs": []
    },
    {
      "cell_type": "code",
      "source": [
        "lines = sc.textFile(\"pagelinks.txt\")"
      ],
      "metadata": {
        "id": "vbjrbNNyX5go"
      },
      "execution_count": null,
      "outputs": []
    },
    {
      "cell_type": "code",
      "source": [
        "links = (\n",
        "    lines.map(lambda line: line.strip().split())\n",
        "         .filter(lambda parts: len(parts) > 1)\n",
        "         .flatMap(lambda parts: [(parts[0], dest) for dest in parts[1:]])\n",
        ")\n",
        "links = links.groupByKey().mapValues(list)"
      ],
      "metadata": {
        "id": "sl58k4wgX64i"
      },
      "execution_count": null,
      "outputs": []
    },
    {
      "cell_type": "code",
      "source": [
        "ranks = links.mapValues(lambda _: 1.0)"
      ],
      "metadata": {
        "id": "UN7B3mIUX-kD"
      },
      "execution_count": null,
      "outputs": []
    },
    {
      "cell_type": "code",
      "source": [
        "damping = 0.85\n",
        "num_iterations = 10"
      ],
      "metadata": {
        "id": "n1lABgBPZBul"
      },
      "execution_count": null,
      "outputs": []
    },
    {
      "cell_type": "code",
      "source": [
        "for i in range(num_iterations):\n",
        "    # Join links and ranks: (page, ([neighbors], rank))\n",
        "    contributions = links.join(ranks).flatMap(\n",
        "        lambda page_neighbors_rank: [\n",
        "            (neighbor, page_neighbors_rank[1][1] / len(page_neighbors_rank[1][0]))\n",
        "            for neighbor in page_neighbors_rank[1][0]\n",
        "        ]\n",
        "    )\n",
        "\n",
        "    # Update rank with damping\n",
        "    ranks = contributions.reduceByKey(lambda x, y: x + y) \\\n",
        "                         .mapValues(lambda rank: (1 - damping) + damping * rank)\n"
      ],
      "metadata": {
        "id": "v1YNhMHTZEAS"
      },
      "execution_count": null,
      "outputs": []
    },
    {
      "cell_type": "code",
      "source": [
        "final_ranks = ranks.collect()"
      ],
      "metadata": {
        "id": "BacsTkdUZF-m"
      },
      "execution_count": null,
      "outputs": []
    },
    {
      "cell_type": "code",
      "source": [
        "print(\"\\nFinal Page Ranks:\")\n",
        "for page, rank in sorted(final_ranks, key=lambda x: -x[1]):\n",
        "    print(f\"{page}: {rank:.4f}\")"
      ],
      "metadata": {
        "id": "SyHqaCqIZtAQ"
      },
      "execution_count": null,
      "outputs": []
    }
  ]
}