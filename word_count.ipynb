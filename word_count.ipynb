{
  "nbformat": 4,
  "nbformat_minor": 0,
  "metadata": {
    "colab": {
      "private_outputs": true,
      "provenance": []
    },
    "kernelspec": {
      "name": "python3",
      "display_name": "Python 3"
    },
    "language_info": {
      "name": "python"
    }
  },
  "cells": [
    {
      "cell_type": "markdown",
      "source": [
        "PART 1 SPARK BASICS\n"
      ],
      "metadata": {
        "id": "2Fh1aymQPYZm"
      }
    },
    {
      "cell_type": "markdown",
      "source": [
        "Task 1.1: Basic Word Count"
      ],
      "metadata": {
        "id": "kGHoh113PerM"
      }
    },
    {
      "cell_type": "code",
      "execution_count": null,
      "metadata": {
        "id": "vkDwfLF0pwO6"
      },
      "outputs": [],
      "source": [
        "from pyspark import SparkContext\n",
        "import string\n",
        "import os\n",
        "import shutil"
      ]
    },
    {
      "cell_type": "code",
      "source": [
        "sc = SparkContext(\"local\", \"WordCount\")"
      ],
      "metadata": {
        "id": "QTyMU0P5p2YC"
      },
      "execution_count": null,
      "outputs": []
    },
    {
      "cell_type": "code",
      "source": [
        "file1 = sc.textFile(\"book1.txt\")\n",
        "file2 = sc.textFile(\"book2.txt\")"
      ],
      "metadata": {
        "id": "W66GeWTLqW6s"
      },
      "execution_count": null,
      "outputs": []
    },
    {
      "cell_type": "code",
      "source": [
        "combined_files = file1.union(file2)"
      ],
      "metadata": {
        "id": "rGnS7H21qc-I"
      },
      "execution_count": null,
      "outputs": []
    },
    {
      "cell_type": "code",
      "source": [
        "words = combined_files.flatMap(lambda line: line.lower().split()) \\\n",
        "                      .map(lambda word: ''.join(filter(str.isalnum, word))) \\\n",
        "                      .filter(lambda word: word != '')"
      ],
      "metadata": {
        "id": "NogucZrwqjez"
      },
      "execution_count": null,
      "outputs": []
    },
    {
      "cell_type": "code",
      "source": [
        "word_counts = words.map(lambda word: (word, 1)) \\\n",
        "                   .reduceByKey(lambda a, b: a + b)"
      ],
      "metadata": {
        "id": "jiIsPz2xqogq"
      },
      "execution_count": null,
      "outputs": []
    },
    {
      "cell_type": "code",
      "source": [
        "output_dir = \"output1.txt\"\n",
        "if os.path.exists(output_dir):\n",
        "    shutil.rmtree(output_dir)\n",
        "    print(f\"Deleted existing folder: {output_dir}\")"
      ],
      "metadata": {
        "id": "B0sYjVvbTo7M"
      },
      "execution_count": null,
      "outputs": []
    },
    {
      "cell_type": "code",
      "source": [
        "word_counts.saveAsTextFile(\"output1.txt\")"
      ],
      "metadata": {
        "id": "-aGN_Xg9qsEn"
      },
      "execution_count": null,
      "outputs": []
    },
    {
      "cell_type": "markdown",
      "source": [
        "Task 1.2: Extended Word Count"
      ],
      "metadata": {
        "id": "yLGxRxFQQhTm"
      }
    },
    {
      "cell_type": "code",
      "source": [
        "stop_words = set([\n",
        "    \"the\", \"is\", \"in\", \"and\", \"to\", \"a\", \"of\", \"for\", \"on\", \"with\", \"that\",\n",
        "    \"this\", \"an\", \"it\", \"as\", \"are\", \"was\", \"at\", \"by\", \"be\", \"has\", \"have\",\n",
        "    \"but\", \"not\", \"or\", \"from\", \"had\", \"they\", \"you\", \"i\", \"we\", \"his\", \"her\", \"their\"\n",
        "])"
      ],
      "metadata": {
        "id": "VHJkNSkkQkcy"
      },
      "execution_count": null,
      "outputs": []
    },
    {
      "cell_type": "code",
      "source": [
        "broadcast_stopwords = sc.broadcast(stop_words)"
      ],
      "metadata": {
        "id": "CrVNagymQ8P8"
      },
      "execution_count": null,
      "outputs": []
    },
    {
      "cell_type": "code",
      "source": [
        "word_counts = (\n",
        "    combined_files\n",
        "    .flatMap(lambda line: line.lower().translate(str.maketrans(\"\", \"\", string.punctuation)).split())\n",
        "    .filter(lambda word: word not in broadcast_stopwords.value and word != '')\n",
        "    .map(lambda word: (word, 1))\n",
        "    .reduceByKey(lambda a, b: a + b)\n",
        "    .sortBy(lambda pair: pair[1], ascending=False)  # sort by count desc\n",
        ")"
      ],
      "metadata": {
        "id": "928I4679RE8E"
      },
      "execution_count": null,
      "outputs": []
    },
    {
      "cell_type": "code",
      "source": [
        "output_dir = \"output1extended.txt\"\n",
        "if os.path.exists(output_dir):\n",
        "    shutil.rmtree(output_dir)\n",
        "    print(f\"Deleted existing folder: {output_dir}\")"
      ],
      "metadata": {
        "id": "u8Gza5F8TXM5"
      },
      "execution_count": null,
      "outputs": []
    },
    {
      "cell_type": "code",
      "source": [
        "word_counts.saveAsTextFile(\"output1extended.txt\")"
      ],
      "metadata": {
        "id": "q8A0WsS0RGDZ"
      },
      "execution_count": null,
      "outputs": []
    },
    {
      "cell_type": "markdown",
      "source": [
        "Task 1.4: Top 25 Words from One Book"
      ],
      "metadata": {
        "id": "5qQS204xRPIj"
      }
    },
    {
      "cell_type": "code",
      "source": [
        "text_file = sc.textFile(\"book1.txt\")\n",
        "broadcast_stopwords = sc.broadcast(stop_words)\n",
        "word_counts = (\n",
        "    text_file\n",
        "    .flatMap(lambda line: line.lower().translate(str.maketrans(\"\", \"\", string.punctuation)).split())\n",
        "    .filter(lambda word: word and word not in broadcast_stopwords.value)\n",
        "    .map(lambda word: (word, 1))\n",
        "    .reduceByKey(lambda a, b: a + b)\n",
        "    .sortBy(lambda pair: pair[1], ascending=False)\n",
        ")\n",
        "\n",
        "top_25 = word_counts.take(25)\n",
        "print(\"\\nTop 25 most common words:\\n\")\n",
        "for word, count in top_25:\n",
        "    print(f\"{word}: {count}\")"
      ],
      "metadata": {
        "id": "Yf7_1Ef_RS91"
      },
      "execution_count": null,
      "outputs": []
    }
  ]
}